{
 "cells": [
  {
   "cell_type": "code",
   "execution_count": 1,
   "metadata": {
    "collapsed": true
   },
   "outputs": [],
   "source": [
    "import collections\n",
    "import nltk\n",
    "from nltk import word_tokenize\n",
    "from nltk.corpus import stopwords\n",
    "from nltk.stem import PorterStemmer\n",
    "from sklearn.cluster import KMeans\n",
    "from sklearn.feature_extraction.text import TfidfVectorizer"
   ]
  },
  {
   "cell_type": "code",
   "execution_count": 6,
   "outputs": [
    {
     "name": "stderr",
     "output_type": "stream",
     "text": [
      "[nltk_data] Downloading package stopwords to\n",
      "[nltk_data]     /Users/caelyasutake/nltk_data...\n",
      "[nltk_data]   Package stopwords is already up-to-date!\n",
      "[nltk_data] Downloading package punkt to\n",
      "[nltk_data]     /Users/caelyasutake/nltk_data...\n",
      "[nltk_data]   Unzipping tokenizers/punkt.zip.\n"
     ]
    },
    {
     "data": {
      "text/plain": "True"
     },
     "execution_count": 6,
     "metadata": {},
     "output_type": "execute_result"
    }
   ],
   "source": [
    "# stop words are common words which do not add meaning to sentence\n",
    "nltk.download('stopwords')\n",
    "nltk.download('punkt')"
   ],
   "metadata": {
    "collapsed": false
   }
  },
  {
   "cell_type": "code",
   "execution_count": 7,
   "outputs": [],
   "source": [
    "def tokenizer(text):\n",
    "    # transform text into array\n",
    "    tokens = word_tokenize(text)\n",
    "\n",
    "    # yields the stem\n",
    "    stemmer = PorterStemmer()\n",
    "\n",
    "    # filter out stop words\n",
    "    tokens = [stemmer.stem(t) for t in tokens if t not in stopwords.words('english')]\n",
    "    return tokens"
   ],
   "metadata": {
    "collapsed": false
   }
  },
  {
   "cell_type": "code",
   "execution_count": 8,
   "outputs": [],
   "source": [
    "def cluster_sentences(texts, n=2):\n",
    "    # filter out common words\n",
    "    vectorizer = TfidfVectorizer(tokenizer=tokenizer, stop_words=stopwords.words('english'), lowercase=True)\n",
    "    # builds TF-IDF matrix for sentences\n",
    "    matrix = vectorizer.fit_transform(texts)\n",
    "    # fit k-means clustering model\n",
    "    model = KMeans(n_clusters=2)\n",
    "    model.fit(matrix)\n",
    "    topics = collections.defaultdict(list)\n",
    "\n",
    "    for index, label in enumerate(model.labels_):\n",
    "        topics[label].append(index)\n",
    "    return dict(topics)"
   ],
   "metadata": {
    "collapsed": false
   }
  },
  {
   "cell_type": "code",
   "execution_count": 9,
   "outputs": [
    {
     "name": "stdout",
     "output_type": "stream",
     "text": [
      "CLUSTER  0 :\n",
      "\tSENTENCE  1 :  Investing in stocks and trading with them are not that easy\n",
      "\tSENTENCE  2 :  FOREX is the stock market fro trading currencies\n",
      "\tSENTENCE  3 :  Warren Buffet is famous for making good investments. He knows stock markets.\n",
      "CLUSTER  1 :\n",
      "\tSENTENCE  1 :  Quantum physics is quite important in science nowadays.\n",
      "\tSENTENCE  2 :  Software engineering is hotter and hotter topic in silicon valley\n"
     ]
    },
    {
     "name": "stderr",
     "output_type": "stream",
     "text": [
      "/Users/caelyasutake/anaconda3/envs/MachineLearning/lib/python3.9/site-packages/sklearn/feature_extraction/text.py:409: UserWarning: Your stop_words may be inconsistent with your preprocessing. Tokenizing the stop words generated tokens [\"'d\", \"'ll\", \"'re\", \"'s\", \"'ve\", 'could', 'might', 'must', \"n't\", 'need', 'sha', 'wo', 'would'] not in stop_words.\n",
      "  warnings.warn(\n",
      "/Users/caelyasutake/anaconda3/envs/MachineLearning/lib/python3.9/site-packages/sklearn/cluster/_kmeans.py:870: FutureWarning: The default value of `n_init` will change from 10 to 'auto' in 1.4. Set the value of `n_init` explicitly to suppress the warning\n",
      "  warnings.warn(\n"
     ]
    }
   ],
   "source": [
    "if __name__ == '__main__':\n",
    "    sentences = [\"Quantum physics is quite important in science nowadays.\",\n",
    "                 \"Software engineering is hotter and hotter topic in silicon valley\",\n",
    "                 \"Investing in stocks and trading with them are not that easy\",\n",
    "                 \"FOREX is the stock market fro trading currencies\",\n",
    "                 \"Warren Buffet is famous for making good investments. He knows stock markets.\"]\n",
    "\n",
    "    n_clusters = 2\n",
    "    clusters = cluster_sentences(sentences, n_clusters)\n",
    "\n",
    "    for cluster in range(n_clusters):\n",
    "        print(\"CLUSTER \", cluster, \":\")\n",
    "        for i, sentence in enumerate(clusters[cluster]):\n",
    "            print(\"\\tSENTENCE \", i+1, \": \", sentences[sentence])"
   ],
   "metadata": {
    "collapsed": false
   }
  },
  {
   "cell_type": "code",
   "execution_count": null,
   "outputs": [],
   "source": [],
   "metadata": {
    "collapsed": false
   }
  }
 ],
 "metadata": {
  "kernelspec": {
   "display_name": "Python 3",
   "language": "python",
   "name": "python3"
  },
  "language_info": {
   "codemirror_mode": {
    "name": "ipython",
    "version": 2
   },
   "file_extension": ".py",
   "mimetype": "text/x-python",
   "name": "python",
   "nbconvert_exporter": "python",
   "pygments_lexer": "ipython2",
   "version": "2.7.6"
  }
 },
 "nbformat": 4,
 "nbformat_minor": 0
}
