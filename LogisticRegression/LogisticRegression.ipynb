{
 "cells": [
  {
   "cell_type": "code",
   "execution_count": 50,
   "metadata": {
    "collapsed": true
   },
   "outputs": [],
   "source": [
    "import numpy as np\n",
    "import pandas as pd\n",
    "from matplotlib import pyplot as plt\n",
    "from sklearn.linear_model import LogisticRegression\n",
    "from sklearn.model_selection import train_test_split\n",
    "from sklearn.metrics import confusion_matrix\n",
    "from sklearn.metrics import accuracy_score\n",
    "from sklearn.model_selection import cross_validate"
   ]
  },
  {
   "cell_type": "code",
   "execution_count": 29,
   "outputs": [
    {
     "name": "stdout",
     "output_type": "stream",
     "text": [
      "       person_age  person_income person_home_ownership  person_emp_length  \\\n",
      "0              22          59000                  RENT              123.0   \n",
      "1              21           9600                   OWN                5.0   \n",
      "2              25           9600              MORTGAGE                1.0   \n",
      "3              23          65500                  RENT                4.0   \n",
      "4              24          54400                  RENT                8.0   \n",
      "...           ...            ...                   ...                ...   \n",
      "32576          57          53000              MORTGAGE                1.0   \n",
      "32577          54         120000              MORTGAGE                4.0   \n",
      "32578          65          76000                  RENT                3.0   \n",
      "32579          56         150000              MORTGAGE                5.0   \n",
      "32580          66          42000                  RENT                2.0   \n",
      "\n",
      "           loan_intent loan_grade  loan_amnt  loan_int_rate  loan_status  \\\n",
      "0             PERSONAL          D      35000          16.02            1   \n",
      "1            EDUCATION          B       1000          11.14            0   \n",
      "2              MEDICAL          C       5500          12.87            1   \n",
      "3              MEDICAL          C      35000          15.23            1   \n",
      "4              MEDICAL          C      35000          14.27            1   \n",
      "...                ...        ...        ...            ...          ...   \n",
      "32576         PERSONAL          C       5800          13.16            0   \n",
      "32577         PERSONAL          A      17625           7.49            0   \n",
      "32578  HOMEIMPROVEMENT          B      35000          10.99            1   \n",
      "32579         PERSONAL          B      15000          11.48            0   \n",
      "32580          MEDICAL          B       6475           9.99            0   \n",
      "\n",
      "       loan_percent_income cb_person_default_on_file  \\\n",
      "0                     0.59                         Y   \n",
      "1                     0.10                         N   \n",
      "2                     0.57                         N   \n",
      "3                     0.53                         N   \n",
      "4                     0.55                         Y   \n",
      "...                    ...                       ...   \n",
      "32576                 0.11                         N   \n",
      "32577                 0.15                         N   \n",
      "32578                 0.46                         N   \n",
      "32579                 0.10                         N   \n",
      "32580                 0.15                         N   \n",
      "\n",
      "       cb_person_cred_hist_length  \n",
      "0                               3  \n",
      "1                               2  \n",
      "2                               3  \n",
      "3                               2  \n",
      "4                               4  \n",
      "...                           ...  \n",
      "32576                          30  \n",
      "32577                          19  \n",
      "32578                          28  \n",
      "32579                          26  \n",
      "32580                          30  \n",
      "\n",
      "[32581 rows x 12 columns]\n"
     ]
    }
   ],
   "source": [
    "credit_data = pd.read_csv(\"credit_data.csv\")\n",
    "print(credit_data)"
   ],
   "metadata": {
    "collapsed": false
   }
  },
  {
   "cell_type": "code",
   "execution_count": 31,
   "outputs": [
    {
     "name": "stdout",
     "output_type": "stream",
     "text": [
      "       person_age  person_income person_home_ownership  person_emp_length  \\\n",
      "0              22          59000                  RENT              123.0   \n",
      "1              21           9600                   OWN                5.0   \n",
      "2              25           9600              MORTGAGE                1.0   \n",
      "3              23          65500                  RENT                4.0   \n",
      "4              24          54400                  RENT                8.0   \n",
      "...           ...            ...                   ...                ...   \n",
      "32576          57          53000              MORTGAGE                1.0   \n",
      "32577          54         120000              MORTGAGE                4.0   \n",
      "32578          65          76000                  RENT                3.0   \n",
      "32579          56         150000              MORTGAGE                5.0   \n",
      "32580          66          42000                  RENT                2.0   \n",
      "\n",
      "           loan_intent loan_grade  loan_amnt  loan_int_rate  loan_status  \\\n",
      "0             PERSONAL          D      35000          16.02            1   \n",
      "1            EDUCATION          B       1000          11.14            0   \n",
      "2              MEDICAL          C       5500          12.87            1   \n",
      "3              MEDICAL          C      35000          15.23            1   \n",
      "4              MEDICAL          C      35000          14.27            1   \n",
      "...                ...        ...        ...            ...          ...   \n",
      "32576         PERSONAL          C       5800          13.16            0   \n",
      "32577         PERSONAL          A      17625           7.49            0   \n",
      "32578  HOMEIMPROVEMENT          B      35000          10.99            1   \n",
      "32579         PERSONAL          B      15000          11.48            0   \n",
      "32580          MEDICAL          B       6475           9.99            0   \n",
      "\n",
      "       loan_percent_income  cb_person_default_on_file  \\\n",
      "0                     0.59                          1   \n",
      "1                     0.10                          0   \n",
      "2                     0.57                          0   \n",
      "3                     0.53                          0   \n",
      "4                     0.55                          1   \n",
      "...                    ...                        ...   \n",
      "32576                 0.11                          0   \n",
      "32577                 0.15                          0   \n",
      "32578                 0.46                          0   \n",
      "32579                 0.10                          0   \n",
      "32580                 0.15                          0   \n",
      "\n",
      "       cb_person_cred_hist_length  \n",
      "0                               3  \n",
      "1                               2  \n",
      "2                               3  \n",
      "3                               2  \n",
      "4                               4  \n",
      "...                           ...  \n",
      "32576                          30  \n",
      "32577                          19  \n",
      "32578                          28  \n",
      "32579                          26  \n",
      "32580                          30  \n",
      "\n",
      "[32581 rows x 12 columns]\n"
     ]
    }
   ],
   "source": [
    "# replace values for defaulting\n",
    "credit_data['cb_person_default_on_file'].replace(['Y', 'N'], [1, 0], inplace=True)\n",
    "print(credit_data)"
   ],
   "metadata": {
    "collapsed": false
   }
  },
  {
   "cell_type": "code",
   "execution_count": 38,
   "outputs": [],
   "source": [
    "features = credit_data[[\"person_income\", \"person_age\", \"loan_amnt\"]]\n",
    "target = credit_data[\"cb_person_default_on_file\"]\n",
    "\n",
    "X = np.array(features).reshape(-1, 3)\n",
    "y = np.array(target)\n",
    "feature_train, feature_test, target_train, target_test = train_test_split(X, y, test_size=0.3)"
   ],
   "metadata": {
    "collapsed": false
   }
  },
  {
   "cell_type": "code",
   "execution_count": 45,
   "outputs": [],
   "source": [
    "model = LogisticRegression()\n",
    "model.fit = model.fit(feature_train, target_train)"
   ],
   "metadata": {
    "collapsed": false
   }
  },
  {
   "cell_type": "code",
   "execution_count": 46,
   "outputs": [
    {
     "name": "stdout",
     "output_type": "stream",
     "text": [
      "b0 is:  [-0.00199734]\n",
      "b1 is:  [[-1.58998491e-06 -5.28380169e-02  7.01333021e-06]]\n"
     ]
    }
   ],
   "source": [
    "print(\"b0 is: \", model.intercept_)\n",
    "print(\"b1 is: \", model.coef_)"
   ],
   "metadata": {
    "collapsed": false
   }
  },
  {
   "cell_type": "code",
   "execution_count": 47,
   "outputs": [
    {
     "name": "stdout",
     "output_type": "stream",
     "text": [
      "[[8076    0]\n",
      " [1699    0]]\n",
      "0.8261892583120205\n"
     ]
    }
   ],
   "source": [
    "predictions = model.fit.predict(feature_test)\n",
    "print(confusion_matrix(target_test, predictions))\n",
    "print(accuracy_score(target_test, predictions))"
   ],
   "metadata": {
    "collapsed": false
   }
  },
  {
   "cell_type": "code",
   "execution_count": 51,
   "outputs": [
    {
     "name": "stdout",
     "output_type": "stream",
     "text": [
      "0.8236702365904612\n"
     ]
    }
   ],
   "source": [
    "# cross validation\n",
    "predicted = cross_validate(model, X, y, cv=5) #cv are num folds\n",
    "\n",
    "print(np.mean(predicted['test_score']))"
   ],
   "metadata": {
    "collapsed": false
   }
  },
  {
   "cell_type": "code",
   "execution_count": null,
   "outputs": [],
   "source": [],
   "metadata": {
    "collapsed": false
   }
  }
 ],
 "metadata": {
  "kernelspec": {
   "display_name": "Python 3",
   "language": "python",
   "name": "python3"
  },
  "language_info": {
   "codemirror_mode": {
    "name": "ipython",
    "version": 2
   },
   "file_extension": ".py",
   "mimetype": "text/x-python",
   "name": "python",
   "nbconvert_exporter": "python",
   "pygments_lexer": "ipython2",
   "version": "2.7.6"
  }
 },
 "nbformat": 4,
 "nbformat_minor": 0
}
