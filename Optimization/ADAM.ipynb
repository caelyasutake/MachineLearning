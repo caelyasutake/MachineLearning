{
 "cells": [
  {
   "cell_type": "code",
   "execution_count": 1,
   "metadata": {
    "collapsed": true
   },
   "outputs": [],
   "source": [
    "import numpy as np"
   ]
  },
  {
   "cell_type": "code",
   "execution_count": 2,
   "outputs": [],
   "source": [
    "# Cost func\n",
    "def f(x, y):\n",
    "    return x*x + y*y + 5"
   ],
   "metadata": {
    "collapsed": false
   }
  },
  {
   "cell_type": "code",
   "execution_count": 3,
   "outputs": [],
   "source": [
    "def df(x, y):\n",
    "    return np.asarray([2.0 * x, 2.0 * y])"
   ],
   "metadata": {
    "collapsed": false
   }
  },
  {
   "cell_type": "code",
   "execution_count": 4,
   "outputs": [],
   "source": [
    "def adam(bounds, n, alpha, beta1, beta2, epsilon=1e-8):\n",
    "    x = np.asarray([0.8, 0.9])\n",
    "\n",
    "    m = [0.0 for _ in range(bounds.shape[0])]\n",
    "    v = [0.0 for _ in range(bounds.shape[0])]\n",
    "\n",
    "    for t in range(1, n+1):\n",
    "        g = df(x[0], x[1])\n",
    "\n",
    "        for i in range(x.shape[0]):\n",
    "            m[i] = beta1 * m[i] + (1.0 - beta1) * g[i]\n",
    "            v[i] = beta2 * v[i] + (1.0 - beta2) * g[i] ** 2\n",
    "            m_corrected = m[i] / (1.0 - beta1 ** t)\n",
    "            v_corrected = v[i] / (1.0 - beta2 ** t)\n",
    "            x[i] = x[i] - alpha * m_corrected / (np.sqrt(v_corrected) + epsilon)\n",
    "        print('(%s) - function value: %s' % (x, f(x[0], x[1])))"
   ],
   "metadata": {
    "collapsed": false
   }
  },
  {
   "cell_type": "code",
   "execution_count": 5,
   "outputs": [
    {
     "name": "stdout",
     "output_type": "stream",
     "text": [
      "([0.75 0.85]) - function value: 6.285000000940972\n",
      "([0.70011004 0.80009484]) - function value: 6.130305817076774\n",
      "([0.65041466 0.75035612]) - function value: 5.986073535023797\n",
      "([0.60100761 0.70086216]) - function value: 5.852417918973276\n",
      "([0.5519924  0.65169836]) - function value: 5.729406354490881\n",
      "([0.50348278 0.60295742]) - function value: 5.617052567106095\n",
      "([0.45560317 0.55473959]) - function value: 5.515310262227009\n",
      "([0.40848872 0.50715269]) - function value: 5.424066892632939\n",
      "([0.36228529 0.46031207]) - function value: 5.3431378290985325\n",
      "([0.31714887 0.4143403 ]) - function value: 5.272261285005731\n",
      "([0.27324467 0.36936671]) - function value: 5.211094420311869\n",
      "([0.23074563 0.3255266 ]) - function value: 5.159211113286115\n",
      "([0.18983024 0.28296008]) - function value: 5.116101925345768\n",
      "([0.15067975 0.24181065]) - function value: 5.081176777471574\n",
      "([0.11347466 0.20222336]) - function value: 5.05377078796582\n",
      "([0.07839065 0.16434257]) - function value: 5.033153576490609\n",
      "([0.04559393 0.12830942]) - function value: 5.0185421135643375\n",
      "([0.01523641 0.09425895]) - function value: 5.009116898140724\n",
      "([-0.01254918  0.06231713]) - function value: 5.00404090698088\n",
      "([-0.03765385  0.03259773]) - function value: 5.002480423787409\n",
      "([-0.05999622  0.00519929]) - function value: 5.0036265790449646\n",
      "([-0.0795256  -0.01979761]) - function value: 5.006716266564932\n",
      "([-0.09622383 -0.04233276]) - function value: 5.011051087040292\n",
      "([-0.11010597 -0.06236816]) - function value: 5.016013112525986\n",
      "([-0.12121984 -0.07988929]) - function value: 5.021076547966693\n",
      "([-0.12964439 -0.0949056 ]) - function value: 5.025814740513314\n",
      "([-0.13548727 -0.10745043]) - function value: 5.0299023948855295\n",
      "([-0.13888171 -0.11758021]) - function value: 5.033113235101489\n",
      "([-0.13998303 -0.12537311]) - function value: 5.035313664335514\n",
      "([-0.13896489 -0.13092726]) - function value: 5.03645318991847\n",
      "([-0.13601565 -0.13435861]) - function value: 5.036552493949049\n",
      "([-0.13133472 -0.13579854]) - function value: 5.035690051777399\n",
      "([-0.12512922 -0.13539139]) - function value: 5.033988150363226\n",
      "([-0.11761082 -0.13329199]) - function value: 5.031599059097964\n",
      "([-0.10899286 -0.12966316]) - function value: 5.028691978608313\n",
      "([-0.09948774 -0.12467335]) - function value: 5.025441255664752\n",
      "([-0.08930444 -0.11849445]) - function value: 5.022016216813012\n",
      "([-0.07864628 -0.11129964]) - function value: 5.018572847114471\n",
      "([-0.06770892 -0.10326146]) - function value: 5.015247427015828\n",
      "([-0.05667833 -0.09455003]) - function value: 5.012152140958091\n",
      "([-0.04572909 -0.08533133]) - function value: 5.0093725856825255\n",
      "([-0.03502271 -0.07576571]) - function value: 5.006967033764548\n",
      "([-0.02470621 -0.06600645]) - function value: 5.004967248438085\n",
      "([-0.01491081 -0.05619846]) - function value: 5.003380599499925\n",
      "([-0.00575092 -0.04647714]) - function value: 5.002193197678125\n",
      "([ 0.00267667 -0.03696732]) - function value: 5.001373747127761\n",
      "([ 0.01029335 -0.02778237]) - function value: 5.000877813244814\n",
      "([ 0.01703886 -0.01902348]) - function value: 5.00065221568418\n",
      "([ 0.02287129 -0.01077903]) - function value: 5.0006392833263344\n",
      "([ 0.02776664 -0.00312421]) - function value: 5.00078074692575\n",
      "([0.03171821 0.00387923]) - function value: 5.001021093325287\n",
      "([0.03473564 0.01018303]) - function value: 5.001310258797667\n",
      "([0.03684373 0.01575228]) - function value: 5.001605594348754\n",
      "([0.03808104 0.0205651 ]) - function value: 5.001873088874503\n",
      "([0.03849836 0.02461218]) - function value: 5.002087883574754\n",
      "([0.03815703 0.02789609]) - function value: 5.002234150416644\n",
      "([0.03712711 0.03043049]) - function value: 5.00230443703563\n",
      "([0.03548564 0.03223925]) - function value: 5.002298599520127\n",
      "([0.03331475 0.03335537]) - function value: 5.002222453161782\n",
      "([0.03069989 0.03381992]) - function value: 5.002086270300161\n",
      "([0.02772805 0.03368086]) - function value: 5.001903245222194\n",
      "([0.02448612 0.03299182]) - function value: 5.0016880304248605\n",
      "([0.02105928 0.03181093]) - function value: 5.001455428329535\n",
      "([0.01752959 0.03019956]) - function value: 5.0012192996954346\n",
      "([0.01397469 0.02822117]) - function value: 5.000991726370199\n",
      "([0.01046664 0.02594018]) - function value: 5.000782443294845\n",
      "([0.00707097 0.02342084]) - function value: 5.000598534233735\n",
      "([0.00384589 0.02072626]) - function value: 5.0004443685891795\n",
      "([0.00084166 0.01791745]) - function value: 5.000321743592244\n",
      "([-0.00189977  0.01505252]) - function value: 5.000230187482459\n",
      "([-0.00434505  0.01218587]) - function value: 5.000167375000732\n",
      "([-0.00646944  0.00936764]) - function value: 5.00012960631483\n",
      "([-0.0082567  0.0066431]) - function value: 5.000112303816251\n",
      "([-0.00969876  0.00405232]) - function value: 5.000110487329283\n",
      "([-0.01079537  0.00162982]) - function value: 5.000119196309746\n",
      "([-0.01155344 -0.0005956 ]) - function value: 5.000133836705968\n",
      "([-0.01198643 -0.00260094]) - function value: 5.00015043947401\n",
      "([-0.01211357 -0.00436897]) - function value: 5.000165826550197\n",
      "([-0.01195901 -0.0058881 ]) - function value: 5.000177687798431\n",
      "([-0.01155097 -0.00715218]) - function value: 5.000184578649466\n",
      "([-0.01092081 -0.00816018]) - function value: 5.000185852594614\n",
      "([-0.01010214 -0.00891583]) - function value: 5.000181545319123\n",
      "([-0.00912992 -0.00942723]) - function value: 5.000172228144331\n",
      "([-0.0080396  -0.00970632]) - function value: 5.000158847799238\n",
      "([-0.00686632 -0.00976838]) - function value: 5.000142567656911\n",
      "([-0.00564415 -0.00963153]) - function value: 5.000124622797126\n",
      "([-0.00440543 -0.00931612]) - function value: 5.000106197959342\n",
      "([-0.00318018 -0.00884423]) - function value: 5.000088333980553\n",
      "([-0.0019956  -0.00823909]) - function value: 5.000071864981553\n",
      "([-0.0008757  -0.00752454]) - function value: 5.000057385623399\n",
      "([ 0.00015904 -0.00672459]) - function value: 5.000045245382819\n",
      "([ 0.0010918  -0.00586286]) - function value: 5.000035565094375\n",
      "([ 0.00190958 -0.00496221]) - function value: 5.000028270008535\n",
      "([ 0.00260317 -0.00404436]) - function value: 5.000023133284165\n",
      "([ 0.00316706 -0.00312951]) - function value: 5.00001982408503\n",
      "([ 0.0035993  -0.00223612]) - function value: 5.000017955160297\n",
      "([ 0.00390124 -0.00138063]) - function value: 5.000017125816578\n",
      "([ 0.00407726 -0.00057733]) - function value: 5.000016957387406\n",
      "([0.00413441 0.00016179]) - function value: 5.0000171195384695\n",
      "([0.00408202 0.00082706]) - function value: 5.000017346897092\n"
     ]
    }
   ],
   "source": [
    "if __name__ == '__main__':\n",
    "    adam(np.asarray([[-1.0, 1.0], [-1.0, 1.0]]), 100, 0.05, 0.9, 0.999)"
   ],
   "metadata": {
    "collapsed": false
   }
  },
  {
   "cell_type": "code",
   "execution_count": null,
   "outputs": [],
   "source": [],
   "metadata": {
    "collapsed": false
   }
  }
 ],
 "metadata": {
  "kernelspec": {
   "display_name": "Python 3",
   "language": "python",
   "name": "python3"
  },
  "language_info": {
   "codemirror_mode": {
    "name": "ipython",
    "version": 2
   },
   "file_extension": ".py",
   "mimetype": "text/x-python",
   "name": "python",
   "nbconvert_exporter": "python",
   "pygments_lexer": "ipython2",
   "version": "2.7.6"
  }
 },
 "nbformat": 4,
 "nbformat_minor": 0
}
