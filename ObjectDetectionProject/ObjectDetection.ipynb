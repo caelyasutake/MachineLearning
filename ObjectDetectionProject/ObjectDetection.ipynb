{
 "cells": [
  {
   "cell_type": "code",
   "execution_count": 1,
   "outputs": [],
   "source": [
    "from keras.datasets import cifar10\n",
    "from keras.utils import to_categorical\n",
    "from keras.models import Sequential\n",
    "from keras.layers import Conv2D\n",
    "from keras.layers import MaxPooling2D\n",
    "from keras.layers import Dense\n",
    "from keras.layers import Flatten\n",
    "from keras.layers import Dropout\n",
    "from keras.optimizers import SGD\n",
    "from keras.layers import BatchNormalization"
   ],
   "metadata": {
    "collapsed": false
   }
  },
  {
   "cell_type": "code",
   "execution_count": 2,
   "outputs": [
    {
     "name": "stdout",
     "output_type": "stream",
     "text": [
      "Downloading data from https://www.cs.toronto.edu/~kriz/cifar-10-python.tar.gz\n",
      "170498071/170498071 [==============================] - 11s 0us/step\n"
     ]
    }
   ],
   "source": [
    "# Load data (32 x 32)\n",
    "(X_train, y_train), (X_test, y_test) = cifar10.load_data()"
   ],
   "metadata": {
    "collapsed": false
   }
  },
  {
   "cell_type": "code",
   "execution_count": 3,
   "outputs": [],
   "source": [
    "# One-hot encode\n",
    "y_train = to_categorical(y_train)\n",
    "y_test = to_categorical(y_test)"
   ],
   "metadata": {
    "collapsed": false
   }
  },
  {
   "cell_type": "code",
   "execution_count": 4,
   "outputs": [],
   "source": [
    "# Normalize\n",
    "X_train = X_train / 255.0\n",
    "X_test = X_test / 255.0"
   ],
   "metadata": {
    "collapsed": false
   }
  },
  {
   "cell_type": "code",
   "execution_count": 5,
   "outputs": [],
   "source": [
    "# Convolutional layers\n",
    "model = Sequential()\n",
    "model.add(Conv2D(32, (3, 3), activation='relu', kernel_initializer='he_uniform', padding='same', input_shape=(32, 32, 3)))\n",
    "model.add(BatchNormalization())\n",
    "\n",
    "model.add(Conv2D(32, (3, 3), activation='relu', kernel_initializer='he_uniform', padding='same'))\n",
    "model.add(BatchNormalization())\n",
    "model.add(MaxPooling2D((2, 2)))\n",
    "model.add(Dropout(0.2))\n",
    "\n",
    "model.add(Conv2D(64, (3, 3), activation='relu', kernel_initializer='he_uniform', padding='same'))\n",
    "model.add(BatchNormalization())\n",
    "model.add(Conv2D(64, (3, 3), activation='relu', kernel_initializer='he_uniform', padding='same'))\n",
    "model.add(BatchNormalization())\n",
    "model.add(MaxPooling2D((2, 2)))\n",
    "model.add(Dropout(0.2))\n",
    "\n",
    "model.add(Conv2D(128, (3, 3), activation='relu', kernel_initializer='he_uniform', padding='same'))\n",
    "model.add(BatchNormalization())\n",
    "model.add(Conv2D(128, (3, 3), activation='relu', kernel_initializer='he_uniform', padding='same'))\n",
    "model.add(BatchNormalization())\n",
    "\n",
    "model.add(MaxPooling2D((2, 2)))\n",
    "model.add(Dropout(0.2))\n",
    "model.add(Flatten())"
   ],
   "metadata": {
    "collapsed": false
   }
  },
  {
   "cell_type": "code",
   "execution_count": 6,
   "outputs": [],
   "source": [
    "# Neural layers\n",
    "model.add(Dense(128, activation='relu', kernel_initializer='he_uniform'))\n",
    "model.add(Dense(10, activation='softmax'))"
   ],
   "metadata": {
    "collapsed": false
   }
  },
  {
   "cell_type": "code",
   "execution_count": 7,
   "outputs": [
    {
     "name": "stdout",
     "output_type": "stream",
     "text": [
      "Epoch 1/50\n"
     ]
    },
    {
     "name": "stderr",
     "output_type": "stream",
     "text": [
      "2023-08-02 22:24:40.012379: W tensorflow/tsl/platform/profile_utils/cpu_utils.cc:128] Failed to get CPU frequency: 0 Hz\n"
     ]
    },
    {
     "name": "stdout",
     "output_type": "stream",
     "text": [
      "782/782 [==============================] - 44s 56ms/step - loss: 1.6988 - accuracy: 0.3856 - val_loss: 1.4131 - val_accuracy: 0.4864\n",
      "Epoch 2/50\n",
      "782/782 [==============================] - 43s 55ms/step - loss: 1.2977 - accuracy: 0.5372 - val_loss: 1.1855 - val_accuracy: 0.5799\n",
      "Epoch 3/50\n",
      "782/782 [==============================] - 41s 53ms/step - loss: 1.0999 - accuracy: 0.6151 - val_loss: 1.1255 - val_accuracy: 0.6019\n",
      "Epoch 4/50\n",
      "782/782 [==============================] - 42s 54ms/step - loss: 0.9824 - accuracy: 0.6569 - val_loss: 0.9600 - val_accuracy: 0.6627\n",
      "Epoch 5/50\n",
      "782/782 [==============================] - 42s 53ms/step - loss: 0.8943 - accuracy: 0.6890 - val_loss: 0.9456 - val_accuracy: 0.6692\n",
      "Epoch 6/50\n",
      "782/782 [==============================] - 41s 53ms/step - loss: 0.8139 - accuracy: 0.7175 - val_loss: 0.8596 - val_accuracy: 0.7072\n",
      "Epoch 7/50\n",
      "782/782 [==============================] - 42s 53ms/step - loss: 0.7391 - accuracy: 0.7444 - val_loss: 0.8706 - val_accuracy: 0.7009\n",
      "Epoch 8/50\n",
      "782/782 [==============================] - 41s 52ms/step - loss: 0.6801 - accuracy: 0.7637 - val_loss: 0.8206 - val_accuracy: 0.7193\n",
      "Epoch 9/50\n",
      "782/782 [==============================] - 41s 53ms/step - loss: 0.6291 - accuracy: 0.7829 - val_loss: 0.8282 - val_accuracy: 0.7185\n",
      "Epoch 10/50\n",
      "782/782 [==============================] - 42s 53ms/step - loss: 0.5775 - accuracy: 0.8000 - val_loss: 0.8604 - val_accuracy: 0.7144\n",
      "Epoch 11/50\n",
      "782/782 [==============================] - 42s 53ms/step - loss: 0.5276 - accuracy: 0.8174 - val_loss: 0.8264 - val_accuracy: 0.7301\n",
      "Epoch 12/50\n",
      "782/782 [==============================] - 44s 56ms/step - loss: 0.4821 - accuracy: 0.8322 - val_loss: 0.8444 - val_accuracy: 0.7270\n",
      "Epoch 13/50\n",
      "782/782 [==============================] - 43s 55ms/step - loss: 0.4397 - accuracy: 0.8471 - val_loss: 0.8772 - val_accuracy: 0.7244\n",
      "Epoch 14/50\n",
      "782/782 [==============================] - 44s 56ms/step - loss: 0.3974 - accuracy: 0.8614 - val_loss: 0.9076 - val_accuracy: 0.7258\n",
      "Epoch 15/50\n",
      "782/782 [==============================] - 43s 55ms/step - loss: 0.3548 - accuracy: 0.8775 - val_loss: 0.9082 - val_accuracy: 0.7291\n",
      "Epoch 16/50\n",
      "782/782 [==============================] - 41s 53ms/step - loss: 0.3176 - accuracy: 0.8894 - val_loss: 0.9742 - val_accuracy: 0.7271\n",
      "Epoch 17/50\n",
      "782/782 [==============================] - 42s 54ms/step - loss: 0.2726 - accuracy: 0.9032 - val_loss: 1.0096 - val_accuracy: 0.7257\n",
      "Epoch 18/50\n",
      "782/782 [==============================] - 41s 53ms/step - loss: 0.2337 - accuracy: 0.9192 - val_loss: 1.0352 - val_accuracy: 0.7242\n",
      "Epoch 19/50\n",
      "782/782 [==============================] - 41s 53ms/step - loss: 0.2092 - accuracy: 0.9256 - val_loss: 1.0861 - val_accuracy: 0.7324\n",
      "Epoch 20/50\n",
      "782/782 [==============================] - 41s 53ms/step - loss: 0.1703 - accuracy: 0.9421 - val_loss: 1.1864 - val_accuracy: 0.7237\n",
      "Epoch 21/50\n",
      "782/782 [==============================] - 41s 53ms/step - loss: 0.1447 - accuracy: 0.9490 - val_loss: 1.1993 - val_accuracy: 0.7321\n",
      "Epoch 22/50\n",
      "782/782 [==============================] - 41s 53ms/step - loss: 0.1238 - accuracy: 0.9579 - val_loss: 1.3001 - val_accuracy: 0.7291\n",
      "Epoch 23/50\n",
      "782/782 [==============================] - 41s 53ms/step - loss: 0.1084 - accuracy: 0.9625 - val_loss: 1.4018 - val_accuracy: 0.7173\n",
      "Epoch 24/50\n",
      "782/782 [==============================] - 41s 53ms/step - loss: 0.0976 - accuracy: 0.9664 - val_loss: 1.4344 - val_accuracy: 0.7211\n",
      "Epoch 25/50\n",
      "782/782 [==============================] - 42s 53ms/step - loss: 0.0911 - accuracy: 0.9690 - val_loss: 1.5182 - val_accuracy: 0.7198\n",
      "Epoch 26/50\n",
      "782/782 [==============================] - 41s 53ms/step - loss: 0.0628 - accuracy: 0.9790 - val_loss: 1.5923 - val_accuracy: 0.7260\n",
      "Epoch 27/50\n",
      "782/782 [==============================] - 42s 54ms/step - loss: 0.0510 - accuracy: 0.9832 - val_loss: 1.7148 - val_accuracy: 0.7218\n",
      "Epoch 28/50\n",
      "782/782 [==============================] - 41s 53ms/step - loss: 0.0615 - accuracy: 0.9785 - val_loss: 1.6683 - val_accuracy: 0.7199\n",
      "Epoch 29/50\n",
      "782/782 [==============================] - 41s 53ms/step - loss: 0.0385 - accuracy: 0.9882 - val_loss: 1.8248 - val_accuracy: 0.7269\n",
      "Epoch 30/50\n",
      "782/782 [==============================] - 42s 54ms/step - loss: 0.0256 - accuracy: 0.9927 - val_loss: 1.8559 - val_accuracy: 0.7191\n",
      "Epoch 31/50\n",
      "782/782 [==============================] - 41s 52ms/step - loss: 0.0528 - accuracy: 0.9818 - val_loss: 1.8665 - val_accuracy: 0.7260\n",
      "Epoch 32/50\n",
      "782/782 [==============================] - 41s 53ms/step - loss: 0.0660 - accuracy: 0.9767 - val_loss: 1.7975 - val_accuracy: 0.7319\n",
      "Epoch 33/50\n",
      "782/782 [==============================] - 42s 53ms/step - loss: 0.0405 - accuracy: 0.9861 - val_loss: 1.9020 - val_accuracy: 0.7250\n",
      "Epoch 34/50\n",
      "782/782 [==============================] - 41s 53ms/step - loss: 0.0294 - accuracy: 0.9904 - val_loss: 1.9325 - val_accuracy: 0.7292\n",
      "Epoch 35/50\n",
      "782/782 [==============================] - 42s 53ms/step - loss: 0.0116 - accuracy: 0.9972 - val_loss: 2.0362 - val_accuracy: 0.7348\n",
      "Epoch 36/50\n",
      "782/782 [==============================] - 41s 53ms/step - loss: 0.0037 - accuracy: 0.9996 - val_loss: 2.0603 - val_accuracy: 0.7364\n",
      "Epoch 37/50\n",
      "782/782 [==============================] - 42s 53ms/step - loss: 0.0010 - accuracy: 1.0000 - val_loss: 2.1239 - val_accuracy: 0.7401\n",
      "Epoch 38/50\n",
      "782/782 [==============================] - 42s 53ms/step - loss: 6.5592e-04 - accuracy: 1.0000 - val_loss: 2.1656 - val_accuracy: 0.7418\n",
      "Epoch 39/50\n",
      "782/782 [==============================] - 41s 52ms/step - loss: 5.2580e-04 - accuracy: 1.0000 - val_loss: 2.1988 - val_accuracy: 0.7417\n",
      "Epoch 40/50\n",
      "782/782 [==============================] - 42s 54ms/step - loss: 4.6106e-04 - accuracy: 1.0000 - val_loss: 2.2280 - val_accuracy: 0.7411\n",
      "Epoch 41/50\n",
      "782/782 [==============================] - 42s 54ms/step - loss: 4.0474e-04 - accuracy: 1.0000 - val_loss: 2.2536 - val_accuracy: 0.7404\n",
      "Epoch 42/50\n",
      "782/782 [==============================] - 41s 53ms/step - loss: 3.6885e-04 - accuracy: 1.0000 - val_loss: 2.2748 - val_accuracy: 0.7413\n",
      "Epoch 43/50\n",
      "782/782 [==============================] - 41s 53ms/step - loss: 3.3732e-04 - accuracy: 1.0000 - val_loss: 2.2920 - val_accuracy: 0.7407\n",
      "Epoch 44/50\n",
      "782/782 [==============================] - 41s 52ms/step - loss: 3.1387e-04 - accuracy: 1.0000 - val_loss: 2.3097 - val_accuracy: 0.7406\n",
      "Epoch 45/50\n",
      "782/782 [==============================] - 41s 53ms/step - loss: 2.9147e-04 - accuracy: 1.0000 - val_loss: 2.3265 - val_accuracy: 0.7416\n",
      "Epoch 46/50\n",
      "782/782 [==============================] - 41s 53ms/step - loss: 2.7317e-04 - accuracy: 1.0000 - val_loss: 2.3390 - val_accuracy: 0.7406\n",
      "Epoch 47/50\n",
      "782/782 [==============================] - 41s 53ms/step - loss: 2.5808e-04 - accuracy: 1.0000 - val_loss: 2.3544 - val_accuracy: 0.7406\n",
      "Epoch 48/50\n",
      "782/782 [==============================] - 41s 53ms/step - loss: 2.4306e-04 - accuracy: 1.0000 - val_loss: 2.3690 - val_accuracy: 0.7410\n",
      "Epoch 49/50\n",
      "782/782 [==============================] - 41s 53ms/step - loss: 2.3176e-04 - accuracy: 1.0000 - val_loss: 2.3804 - val_accuracy: 0.7413\n",
      "Epoch 50/50\n",
      "782/782 [==============================] - 42s 53ms/step - loss: 2.2107e-04 - accuracy: 1.0000 - val_loss: 2.3901 - val_accuracy: 0.7407\n"
     ]
    }
   ],
   "source": [
    "optimizer = SGD(learning_rate=0.001, momentum=0.95)\n",
    "model.compile(optimizer=optimizer, loss='categorical_crossentropy', metrics=['accuracy'])\n",
    "history = model.fit(X_train, y_train, epochs=50, batch_size=64, validation_data=(X_test, y_test))"
   ],
   "metadata": {
    "collapsed": false
   }
  },
  {
   "cell_type": "code",
   "execution_count": 8,
   "outputs": [
    {
     "name": "stdout",
     "output_type": "stream",
     "text": [
      "Accuracy of CNN model: 74.07000064849854\n"
     ]
    }
   ],
   "source": [
    "model_result = model.evaluate(X_test, y_test, verbose=0)\n",
    "print('Accuracy of CNN model: %s' % (model_result[1] * 100.00))"
   ],
   "metadata": {
    "collapsed": false
   }
  },
  {
   "cell_type": "code",
   "execution_count": null,
   "outputs": [],
   "source": [],
   "metadata": {
    "collapsed": false
   }
  }
 ],
 "metadata": {
  "kernelspec": {
   "display_name": "Python 3",
   "language": "python",
   "name": "python3"
  },
  "language_info": {
   "codemirror_mode": {
    "name": "ipython",
    "version": 2
   },
   "file_extension": ".py",
   "mimetype": "text/x-python",
   "name": "python",
   "nbconvert_exporter": "python",
   "pygments_lexer": "ipython2",
   "version": "2.7.6"
  }
 },
 "nbformat": 4,
 "nbformat_minor": 0
}
